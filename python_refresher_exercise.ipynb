{
 "cells": [
  {
   "cell_type": "markdown",
   "metadata": {
    "vscode": {
     "languageId": "plaintext"
    }
   },
   "source": [
    "# Python Refresher Exercise  \n",
    "\n",
    "This exercise is designed to help you revisit and test your understanding of core Python concepts covered in class. You will work on tasks covering variables, data types, loops, functions, conditionals, file handling and object-oriented programming. These fundamentals are crucial for your success in more advanced topics like data analysis, machine learning, and building applications.  \n",
    "\n",
    "If you find this exercise particularly challenging, it’s a sign that you should revisit the learning materials and class recordings. Use this as an opportunity to strengthen your foundation before moving forward in the course.  \n",
    "\n",
    "Your goal is to demonstrate proficiency in Python basics by solving the provided problems effectively and writing clean, functional code.  \n",
    "\n",
    "## Instructions  \n",
    "\n",
    "- Answer the questions or complete the tasks outlined in **bold** below.  \n",
    "- Use the specific method described if applicable.  \n",
    "- **Important:** Do not run your code in the same cell where the answer is provided. Create a new cell below/above and write your code there.  \n",
    "- Running code in the same cell as the answer will overwrite the provided hints and answers. Ensure you follow this structure to retain all information.  \n",
    "\n",
    "Good luck!  \n"
   ]
  },
  {
   "cell_type": "markdown",
   "metadata": {},
   "source": [
    "**1. Task:** What is 7 to the power of 4?"
   ]
  },
  {
   "cell_type": "code",
   "execution_count": null,
   "metadata": {},
   "outputs": [
    {
     "ename": "",
     "evalue": "",
     "output_type": "error",
     "traceback": [
      "\u001b[1;31mRunning cells with 'venv (Python 3.13.2)' requires the ipykernel package.\n",
      "\u001b[1;31mRun the following command to install 'ipykernel' into the Python environment. \n",
      "\u001b[1;31mCommand: 'conda install -p /Users/user/Downloads/sail week 2 assignment /venv ipykernel --update-deps --force-reinstall'"
     ]
    }
   ],
   "source": []
  },
  {
   "cell_type": "code",
   "execution_count": null,
   "metadata": {},
   "outputs": [],
   "source": [
    "# Write your answer here\n",
    "7**4"
   ]
  },
  {
   "cell_type": "markdown",
   "metadata": {},
   "source": [
    "**2.Task** Split this string:\n",
    "\n",
    "    s = \"Hi there Daveworld!\"\n",
    "    \n",
    "**into a list.**"
   ]
  },
  {
   "cell_type": "code",
   "execution_count": null,
   "metadata": {},
   "outputs": [],
   "source": [
    "s = 'Hi there Daveworld!'\n"
   ]
  },
  {
   "cell_type": "code",
   "execution_count": null,
   "metadata": {},
   "outputs": [],
   "source": [
    "# Write your answer here\n",
    "print(s.split())"
   ]
  },
  {
   "cell_type": "markdown",
   "metadata": {},
   "source": [
    "**3.Task** Given this nested list, use indexing to grab the word \"hello\""
   ]
  },
  {
   "cell_type": "code",
   "execution_count": null,
   "metadata": {},
   "outputs": [],
   "source": [
    "lst = [1,2,[3,4],[5,[100,200,['hello']],23,11],1,7]"
   ]
  },
  {
   "cell_type": "code",
   "execution_count": null,
   "metadata": {},
   "outputs": [],
   "source": []
  },
  {
   "cell_type": "code",
   "execution_count": null,
   "metadata": {},
   "outputs": [],
   "source": [
    "# Write your answer here\n",
    "print(lst[3][1][2][0])\n"
   ]
  },
  {
   "cell_type": "markdown",
   "metadata": {},
   "source": [
    "**4. Task** Given this nest dictionary grab the word \"hello\". Be prepared, this will be annoying/tricky try your best!"
   ]
  },
  {
   "cell_type": "code",
   "execution_count": null,
   "metadata": {},
   "outputs": [],
   "source": [
    "d = {'k1':[1,2,3,{'tricky':['oh','man','inception',{'target':[1,2,3,'hello']}]}]}"
   ]
  },
  {
   "cell_type": "code",
   "execution_count": null,
   "metadata": {},
   "outputs": [],
   "source": []
  },
  {
   "cell_type": "code",
   "execution_count": null,
   "metadata": {},
   "outputs": [],
   "source": [
    "# Write your answer here\n",
    "print(d['k1'][3]['tricky'][3]['target'][3])"
   ]
  },
  {
   "cell_type": "markdown",
   "metadata": {},
   "source": [
    "**5. Task** What is the main difference between a tuple and a list?"
   ]
  },
  {
   "cell_type": "code",
   "execution_count": null,
   "metadata": {},
   "outputs": [],
   "source": [
    "# Write your answer here\n",
    "# A tupule is immutable while a list is mutable\n",
    "#  A tuple is enclosed in parentheses(), a list is enclosed in square brackets[]\n"
   ]
  },
  {
   "cell_type": "markdown",
   "metadata": {},
   "source": [
    "**6. Task** Create a function that grabs the email website domain from a string in the form:\n",
    "\n",
    "    user@domain.com\n",
    "    \n",
    "**So for example, passing \"user@domain.com\" would return: domain.com**"
   ]
  },
  {
   "cell_type": "code",
   "execution_count": null,
   "metadata": {},
   "outputs": [],
   "source": [
    "# Write your answer here\n",
    "def domainGet(email):\n",
    "    return email.split('@')[-1]"
   ]
  },
  {
   "cell_type": "code",
   "execution_count": null,
   "metadata": {},
   "outputs": [],
   "source": [
    "# use the following code to test your implementation\n",
    "domainGet('user@domain.com')"
   ]
  },
  {
   "cell_type": "markdown",
   "metadata": {},
   "source": [
    "**7.Task** Create a basic function that returns True if the word 'appliso' is contained in the input string. Don't worry about edge cases like a punctuation being attached to the word 'appliso', but do account for capitalization.\n",
    "\n",
    "    string = \"Appliso is a tech company aiming to change the world!\""
   ]
  },
  {
   "cell_type": "code",
   "execution_count": null,
   "metadata": {},
   "outputs": [],
   "source": [
    "# write your answer here\n",
    "def findAppliso(string):\n",
    "    return 'appliso' in string.lower()"
   ]
  },
  {
   "cell_type": "code",
   "execution_count": null,
   "metadata": {},
   "outputs": [],
   "source": [
    "# Use the following code to test your implementation\n",
    "findAppliso('Appliso is a tech company aiming to change the world!?')"
   ]
  },
  {
   "cell_type": "markdown",
   "metadata": {},
   "source": [
    "**8. Task** Create a function that counts the number of times the word \"dog\" occurs in a string. Again ignore edge cases."
   ]
  },
  {
   "cell_type": "code",
   "execution_count": null,
   "metadata": {},
   "outputs": [],
   "source": [
    "# write your answer here\n",
    "def countDog(string):\n",
    "    count = 0\n",
    "    for word in string.lower().split():\n",
    "        if word == 'dog':\n",
    "            count += 1\n",
    "    return count"
   ]
  },
  {
   "cell_type": "code",
   "execution_count": null,
   "metadata": {},
   "outputs": [],
   "source": [
    "# Use the following code to test your implementation\n",
    "countDog('This dog runs faster than the other dog dude!')"
   ]
  },
  {
   "cell_type": "markdown",
   "metadata": {},
   "source": [
    "**9. Task:** Create a class called Person with attributes name and age. Add a method called introduce that prints, \"Hi, I am [name] and I am [age] years old.\" Instantiate an object and call the introduce method."
   ]
  },
  {
   "cell_type": "code",
   "execution_count": null,
   "metadata": {},
   "outputs": [],
   "source": [
    "# write your answer here\n",
    "class Person:\n",
    "    def __init__(self, name, age):\n",
    "        self.name = name\n",
    "        self.age = age\n",
    "    def introduce(self):\n",
    "        print(f\"Hi, I am {self.name} and I am {self.age} years old.\")"
   ]
  },
  {
   "cell_type": "code",
   "execution_count": null,
   "metadata": {},
   "outputs": [],
   "source": [
    "Person1 = Person(\"John\", 25)\n",
    "Person1.introduce()"
   ]
  },
  {
   "cell_type": "markdown",
   "metadata": {},
   "source": [
    "**10.Task:** Write a Python program to create a text file named sample.txt, write \"Hello, Python!\" to it, and then read the content."
   ]
  },
  {
   "cell_type": "code",
   "execution_count": null,
   "metadata": {},
   "outputs": [],
   "source": []
  },
  {
   "cell_type": "code",
   "execution_count": null,
   "metadata": {},
   "outputs": [],
   "source": [
    "# write your answer here\n",
    "with open('sample.txt', 'w') as file:\n",
    "    file.write('Hello, Python!')\n",
    "\n",
    "with open('sample.txt', 'r') as file:\n",
    "    content = file.read()\n",
    "\n",
    "print(content)"
   ]
  },
  {
   "cell_type": "markdown",
   "metadata": {},
   "source": [
    "**11. Task:** Use a list comprehension to create a list of squares for all numbers from 1 to 10.\n",
    "\n"
   ]
  },
  {
   "cell_type": "code",
   "execution_count": null,
   "metadata": {},
   "outputs": [],
   "source": [
    "# List comprehension for squares\n",
    "\n",
    "squares = [x**2 for x in range(1, 11)]\n",
    "\n",
    "print(squares)\n"
   ]
  },
  {
   "cell_type": "markdown",
   "metadata": {},
   "source": [
    "**12. Task:** Import the math library and use it to calculate the square root of 16.\n",
    "\n"
   ]
  },
  {
   "cell_type": "code",
   "execution_count": null,
   "metadata": {},
   "outputs": [],
   "source": []
  },
  {
   "cell_type": "code",
   "execution_count": null,
   "metadata": {},
   "outputs": [],
   "source": [
    "# write your answer here\n",
    "import math\n",
    "\n",
    "# Calculate the square root of 16\n",
    "sqrt_result = math.sqrt(16)\n",
    "\n",
    "print(sqrt_result)"
   ]
  },
  {
   "cell_type": "markdown",
   "metadata": {},
   "source": [
    "**13. Task:** Write a Python program that performs the following:  \n",
    "1. Accepts two numbers from the user.  \n",
    "2. Tries to divide the first number by the second.  \n",
    "3. Handles `ZeroDivisionError` if the second number is zero.  \n",
    "4. Handles `ValueError` if the input is not a number.  \n",
    "5. Prints a message when all operations are complete, whether an exception occurred or not.  \n"
   ]
  },
  {
   "cell_type": "code",
   "execution_count": null,
   "metadata": {},
   "outputs": [],
   "source": []
  },
  {
   "cell_type": "code",
   "execution_count": null,
   "metadata": {},
   "outputs": [],
   "source": [
    "# write your answer here\n",
    "try:\n",
    "    num1 = float(input(\"Enter the first number: \"))\n",
    "    num2 = float(input(\"Enter the second number: \"))\n",
    "    result = num1 / num2\n",
    "except ZeroDivisionError:\n",
    "    print(\"Error: Cannot divide by zero.\")\n",
    "except ValueError:\n",
    "    print(\"Error: Invalid input. Please enter valid numbers.\")\n",
    "finally:\n",
    "    print(\"All operations completed.\")"
   ]
  },
  {
   "cell_type": "markdown",
   "metadata": {},
   "source": [
    "**14 Task:** Use lambda expressions and the filter() function to filter out words from a list that don't start with the letter 's'. For example:\n",
    "\n",
    "    seq = ['soup','dog','salad','cat','great']\n",
    "\n",
    "**should be filtered down to:**\n",
    "\n",
    "    ['soup','salad']"
   ]
  },
  {
   "cell_type": "code",
   "execution_count": null,
   "metadata": {},
   "outputs": [],
   "source": [
    "seq = ['soup','dog','salad','cat','great']"
   ]
  },
  {
   "cell_type": "code",
   "execution_count": null,
   "metadata": {},
   "outputs": [],
   "source": [
    "# Filter out words that don't start with 's'\n",
    "filtered_seq = list(filter(lambda word: word.startswith('s'), seq))\n",
    "\n",
    "print(filtered_seq)"
   ]
  },
  {
   "cell_type": "markdown",
   "metadata": {},
   "source": [
    "### Final Problem\n",
    "\n",
    "**15 Task:** You are given a list of students' scores and a cut-off mark. Write a Python program to determine:  \n",
    "1. The number of students who passed the cut-off mark.  \n",
    "2. The number of students who did not pass the cut-off mark.  \n",
    "3. Print the percentage of students who passed and failed.  \n",
    "\n",
    "**Details:**  \n",
    "- You will be provided a list of scores (e.g., `[45, 78, 88, 56, 90, 34, 65, 77]`).  \n",
    "- The cut-off mark is 50.  \n",
    "\n",
    "Write your program to calculate the above and output the results in a clear format.\n",
    "\n",
    "---\n",
    "\n",
    "### **Expected Output Example:**  \n",
    "For the given scores `[45, 78, 88, 56, 90, 34, 65, 77]` and cut-off mark of 50:  \n",
    "\n",
    "Number of students who passed: 5\n",
    "Number of students who failed: 3\n",
    "Percentage of students who passed: 62.5%\n",
    "Percentage of students who failed: 37.5%\n",
    "\n",
    "### **Hint:**  \n",
    "Use a loop or list comprehension to filter the scores based on the cut-off mark. You can calculate percentages using the formula:  "
   ]
  },
  {
   "cell_type": "code",
   "execution_count": null,
   "metadata": {},
   "outputs": [],
   "source": [
    "# List of student scores\n",
    "scores = [45, 78, 88, 56, 90, 34, 65, 77]\n",
    "\n",
    "# Cut-off mark\n",
    "cut_off = 50\n",
    "\n",
    "\n",
    "\n",
    "# Print the results\n",
    "print(f\"Number of students who passed: {num_passed}\")\n",
    "print(f\"Number of students who failed: {num_failed}\")\n",
    "print(f\"Percentage of students who passed: {percent_passed:.2f}%\")\n",
    "print(f\"Percentage of students who failed: {percent_failed:.2f}%\")"
   ]
  },
  {
   "cell_type": "code",
   "execution_count": null,
   "metadata": {},
   "outputs": [],
   "source": [
    "# write your answer here\n",
    "# List of student scores\n",
    "scores = [45, 78, 88, 56, 90, 34, 65, 77]\n",
    "\n",
    "# Cut-off mark\n",
    "cut_off = 50\n",
    "\n",
    "# Calculate the number of students who passed\n",
    "num_passed = sum(1 for score in scores if score >= cut_off)\n",
    "\n",
    "# Calculate the number of students who failed\n",
    "num_failed = len(scores) - num_passed\n",
    "\n",
    "# Calculate percentages\n",
    "total_students = len(scores)\n",
    "percent_passed = (num_passed / total_students) * 100\n",
    "percent_failed = (num_failed / total_students) * 100\n",
    "\n",
    "# Print the results\n",
    "print(f\"Number of students who passed: {num_passed}\")\n",
    "print(f\"Number of students who failed: {num_failed}\")\n",
    "print(f\"Percentage of students who passed: {percent_passed:.2f}%\")\n",
    "print(f\"Percentage of students who failed: {percent_failed:.2f}%\")"
   ]
  },
  {
   "cell_type": "markdown",
   "metadata": {},
   "source": [
    "# Great job!"
   ]
  }
 ],
 "metadata": {
  "kernelspec": {
   "display_name": "Python 3",
   "language": "python",
   "name": "python3"
  },
  "language_info": {
   "codemirror_mode": {
    "name": "ipython",
    "version": 3
   },
   "file_extension": ".py",
   "mimetype": "text/x-python",
   "name": "python",
   "nbconvert_exporter": "python",
   "pygments_lexer": "ipython3",
   "version": "3.13.2"
  }
 },
 "nbformat": 4,
 "nbformat_minor": 2
}
